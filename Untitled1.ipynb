{
 "cells": [
  {
   "cell_type": "code",
   "execution_count": 3,
   "metadata": {},
   "outputs": [
    {
     "name": "stdout",
     "output_type": "stream",
     "text": [
      "beforetunnel_0_4\n",
      "aftertunnel_0_4\n",
      "beforetunnel_0_4\n",
      "aftertunnel_0_4\n",
      "beforetunnel_0_4\n",
      "aftertunnel_0_4\n"
     ]
    }
   ],
   "source": [
    ">>> from ants import *\n",
    ">>> hive, layout = Hive(AssaultPlan()), dry_layout\n",
    ">>> dimensions = (1, 9)\n",
    ">>> colony = AntColony(None, hive, ant_types(), layout, dimensions)\n",
    ">>> # Testing Slow\n",
    ">>> slow = SlowThrower()\n",
    ">>> bee = Bee(3)\n",
    ">>> colony.places[\"tunnel_0_0\"].add_insect(slow)\n",
    ">>> colony.places[\"tunnel_0_4\"].add_insect(bee)\n",
    ">>> slow.action(colony)\n",
    ">>> colony.time = 1\n",
    ">>> bee.action(colony)\n",
    "#>>> bee.place.name "
   ]
  },
  {
   "cell_type": "code",
   "execution_count": 4,
   "metadata": {},
   "outputs": [
    {
     "data": {
      "text/plain": [
       "'tunnel_0_3'"
      ]
     },
     "execution_count": 4,
     "metadata": {},
     "output_type": "execute_result"
    }
   ],
   "source": [
    "bee.place.name "
   ]
  }
 ],
 "metadata": {
  "kernelspec": {
   "display_name": "Python 3",
   "language": "python",
   "name": "python3"
  },
  "language_info": {
   "codemirror_mode": {
    "name": "ipython",
    "version": 3
   },
   "file_extension": ".py",
   "mimetype": "text/x-python",
   "name": "python",
   "nbconvert_exporter": "python",
   "pygments_lexer": "ipython3",
   "version": "3.6.3"
  }
 },
 "nbformat": 4,
 "nbformat_minor": 2
}
