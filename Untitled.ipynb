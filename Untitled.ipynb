{
 "cells": [
  {
   "cell_type": "code",
   "execution_count": 7,
   "metadata": {},
   "outputs": [
    {
     "name": "stdout",
     "output_type": "stream",
     "text": [
      "tunnel_0_4\n",
      "tunnel_0_4\n",
      "tunnel_0_4\n"
     ]
    }
   ],
   "source": [
    ">>> from ants import *\n",
    ">>> hive, layout = Hive(AssaultPlan()), dry_layout\n",
    ">>> dimensions = (1, 9)\n",
    ">>> colony = AntColony(None, hive, ant_types(), layout, dimensions)\n",
    ">>> # Testing Slow\n",
    ">>> slow = SlowThrower()\n",
    ">>> bee = Bee(3)\n",
    ">>> colony.places[\"tunnel_0_0\"].add_insect(slow)\n",
    ">>> colony.places[\"tunnel_0_4\"].add_insect(bee)\n",
    ">>> slow.action(colony)\n",
    "#>>> colony.time = 1\n",
    "#>>> bee.action(colony)\n",
    "#>>> bee.place.name "
   ]
  },
  {
   "cell_type": "code",
   "execution_count": 12,
   "metadata": {},
   "outputs": [
    {
     "ename": "SyntaxError",
     "evalue": "no binding for nonlocal 'current_action' found (<ipython-input-12-e5bdc04566bd>, line 2)",
     "output_type": "error",
     "traceback": [
      "\u001b[1;36m  File \u001b[1;32m\"<ipython-input-12-e5bdc04566bd>\"\u001b[1;36m, line \u001b[1;32m2\u001b[0m\n\u001b[1;33m    nonlocal current_action, thrower_name\u001b[0m\n\u001b[1;37m    ^\u001b[0m\n\u001b[1;31mSyntaxError\u001b[0m\u001b[1;31m:\u001b[0m no binding for nonlocal 'current_action' found\n"
     ]
    }
   ],
   "source": [
    "    def new_action(colony):\n",
    "        nonlocal current_action, thrower_name\n",
    "        current_action(bee, colony)\n",
    "        for act in thrower_dict_time:\n",
    "            if thrower_dict_time[act] > 0:\n",
    "                thrower_dict_time[act] -=1\n",
    "        if thrower_dict_time['Stun'] == 0 and thrower_dict_time['Slow'] ==0:\n",
    "            bee.action = prev_action\n",
    "        elif thrower_dict_time['Stun'] == 0:\n",
    "        \tcurrent_action = make_slow\n",
    "        elif thrower_dict_time['Slow'] == 0:\n",
    "        \tcurrent_action = make_stun\n",
    "    bee.action = new_action"
   ]
  },
  {
   "cell_type": "code",
   "execution_count": 4,
   "metadata": {},
   "outputs": [
    {
     "name": "stdout",
     "output_type": "stream",
     "text": [
      "<bound method Bee.action of Bee(3, tunnel_0_4)>\n"
     ]
    }
   ],
   "source": [
    "print(bee.action)"
   ]
  },
  {
   "cell_type": "code",
   "execution_count": 2,
   "metadata": {},
   "outputs": [
    {
     "data": {
      "text/plain": [
       "'tunnel_0_4'"
      ]
     },
     "execution_count": 2,
     "metadata": {},
     "output_type": "execute_result"
    }
   ],
   "source": [
    "bee.place.name "
   ]
  },
  {
   "cell_type": "code",
   "execution_count": 3,
   "metadata": {
    "collapsed": true
   },
   "outputs": [],
   "source": [
    "colony.time = 1"
   ]
  },
  {
   "cell_type": "code",
   "execution_count": 14,
   "metadata": {},
   "outputs": [],
   "source": [
    "def apply_effect(effect, bee, duration):\n",
    "    \"\"\"Apply a status effect to a BEE that lasts for DURATION turns.\"\"\"\n",
    "    # BEGIN Problem EC\n",
    "    \"*** YOUR CODE HERE ***\"\n",
    "    current_action, thrower_name = effect(Bee.action)\n",
    "    thrower_dict_time = {'Stun': 0, 'Slow': 0}\n",
    "    thrower_dict_time[thrower_name] = duration\n",
    "    prev_action = bee.action\n",
    "\n",
    "    def new_action(colony):\n",
    "        nonlocal current_action, thrower_name\n",
    "        if thrower_dict_time['Stun'] > 0 or thrower_dict_time['Slow'] > 0:     \n",
    "            current_action(bee, colony)\n",
    "            for act in thrower_dict_time:\n",
    "                if thrower_dict_time[act] >= 1:\n",
    "                    thrower_dict_time[act] -=1\n",
    "        if thrower_dict_time['Stun'] == 0 and thrower_dict_time['Slow'] ==0:\n",
    "            bee.action = prev_action\n",
    "        elif thrower_dict_time['Stun'] == 0:\n",
    "        \tcurrent_action,thrower_name = make_slow(bee.action)\n",
    "        elif thrower_dict_time['Slow'] == 0:\n",
    "        \tcurrent_action,thrower_name = make_stun(bee.action)\n",
    "    bee.action = new_action"
   ]
  }
 ],
 "metadata": {
  "kernelspec": {
   "display_name": "Python 3",
   "language": "python",
   "name": "python3"
  },
  "language_info": {
   "codemirror_mode": {
    "name": "ipython",
    "version": 3
   },
   "file_extension": ".py",
   "mimetype": "text/x-python",
   "name": "python",
   "nbconvert_exporter": "python",
   "pygments_lexer": "ipython3",
   "version": "3.6.3"
  }
 },
 "nbformat": 4,
 "nbformat_minor": 2
}
